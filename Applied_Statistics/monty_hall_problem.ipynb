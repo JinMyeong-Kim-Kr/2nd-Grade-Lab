{
 "cells": [
  {
   "cell_type": "markdown",
   "id": "164319a1-e5ac-49c8-97cc-65bf15a0e668",
   "metadata": {
    "id": "164319a1-e5ac-49c8-97cc-65bf15a0e668"
   },
   "source": [
    "## 3. 몬티 홀 문제와 조건부 확률 ##"
   ]
  },
  {
   "cell_type": "code",
   "execution_count": null,
   "id": "9974a563-062e-4fa9-bb77-aaf665f1eff0",
   "metadata": {
    "id": "9974a563-062e-4fa9-bb77-aaf665f1eff0"
   },
   "outputs": [],
   "source": [
    "# (1) 몬티 홀 문제 시행 구현하기\n",
    "import random\n",
    "import numpy as np\n",
    "import matplotlib.pyplot as plt\n",
    "\n",
    "def monty_hall_trial(change_choice=False, doors=['car','goat','goat']):\n",
    "    # 무작위로 주어진 선택지(doors)를 섞는다\n",
    "    # << TODO >>\n",
    "    random.shuffle(doors)\n",
    "    # 참가자는 무작위로 문을 하나 선택한다\n",
    "    # << TODO >>\n",
    "    choice = random.sample(doors, 1)\n",
    "    # 참가자가 문을 바꿀 생각이 없다면 처음에 선택했던 문에 해당하는 결과를 return\n",
    "    if change_choice == False:\n",
    "        return choice[0] == 'car'\n",
    "    \n",
    "    # 사회자가 염소가 있는 문을 하나 열어준다\n",
    "    # << TODO >>\n",
    "    doors.pop(doors.index(choice[0])) #처음 선택한 문을 리스트에서 지움\n",
    "    doors.pop(doors.index('goat')) # 그 후 다른 문도 리스트에서 지움\n",
    "    # 참가자가 처음 선택했던 문과 사회자가 열어준 문을 제외하고 남은 문 중 하나를 선택\n",
    "    choice_2 = random.sample(doors, 1)\n",
    "    # 해당하는 문에 대한 결과를 return\n",
    "    return choice_2[0] == 'car'\n",
    "\n",
    "    "
   ]
  },
  {
   "cell_type": "code",
   "execution_count": null,
   "id": "5f040202-32c6-473d-b11d-c82481efd852",
   "metadata": {
    "colab": {
     "base_uri": "https://localhost:8080/"
    },
    "id": "5f040202-32c6-473d-b11d-c82481efd852",
    "outputId": "a0473dd4-d302-481b-e681-5ec28ca58edb"
   },
   "outputs": [
    {
     "name": "stdout",
     "output_type": "stream",
     "text": [
      "문을 바꿨을 때: 0.6666\n",
      "문을 바꾸지 않았을 때: 0.335\n"
     ]
    }
   ],
   "source": [
    "# (2) 문을 바꿨을 때/ 바꾸지 않았을 때를 전제로 10000번씩 시행했을때, 각각의 성공율은?\n",
    "num_trials = 10000\n",
    "trial_change = []\n",
    "trial_no_change = []\n",
    "\n",
    "# << TODO >>\n",
    "for i in range(num_trials): #바꿨을때\n",
    "  cnt = monty_hall_trial(change_choice=True, doors=['car','goat','goat'])\n",
    "  if cnt == True:\n",
    "    trial_change.append(1)    \n",
    "for i in range(num_trials):#안바꿨을때\n",
    "  cnt = monty_hall_trial(change_choice=False, doors=['car','goat','goat'])\n",
    "  if cnt == True:\n",
    "    trial_no_change.append(1)\n",
    "  \n",
    "     \n",
    "\n",
    "print('문을 바꿨을 때:', np.sum(trial_change)/num_trials)\n",
    "print('문을 바꾸지 않았을 때:', np.sum(trial_no_change)/num_trials)"
   ]
  },
  {
   "cell_type": "code",
   "execution_count": null,
   "id": "0d33cade-d238-496b-863b-ed75efc3804c",
   "metadata": {
    "colab": {
     "base_uri": "https://localhost:8080/"
    },
    "id": "0d33cade-d238-496b-863b-ed75efc3804c",
    "outputId": "a12d1ebe-32d5-4bc3-a03a-73d839af8d14"
   },
   "outputs": [
    {
     "name": "stdout",
     "output_type": "stream",
     "text": [
      "문을 바꿨을 때: 0.2577\n",
      "문을 바꾸지 않았을 때: 0.1941\n"
     ]
    }
   ],
   "source": [
    "# (3) 문의 개수가 3개가 아니라 5개라 가정할때도 여전히 문을 바꿨을 때의 성공율이 높은가?\n",
    "trial_change = []\n",
    "trial_no_change = []\n",
    "doors_new = ['car'] + ['goat']*4\n",
    "\n",
    "# << TODO >>   \n",
    "for i in range(num_trials): #바꿨을때\n",
    "  cnt = monty_hall_trial(change_choice=True, doors = ['car','goat','goat','goat','goat'])\n",
    "  if cnt == True:\n",
    "    trial_change.append(1)    \n",
    "for i in range(num_trials):#안바꿨을때\n",
    "  cnt = monty_hall_trial(change_choice=False, doors = ['car','goat','goat','goat','goat'])\n",
    "  if cnt == True:\n",
    "    trial_no_change.append(1) \n",
    "\n",
    "print('문을 바꿨을 때:', np.sum(trial_change)/num_trials)\n",
    "print('문을 바꾸지 않았을 때:', np.sum(trial_no_change)/num_trials)"
   ]
  },
  {
   "cell_type": "code",
   "execution_count": null,
   "id": "c7972dd5-3bf4-476f-86c2-acdef9596e81",
   "metadata": {
    "id": "c7972dd5-3bf4-476f-86c2-acdef9596e81"
   },
   "outputs": [],
   "source": []
  }
 ],
 "metadata": {
  "language_info": {
   "name": "python"
  },
  "orig_nbformat": 4
 },
 "nbformat": 4,
 "nbformat_minor": 2
}
