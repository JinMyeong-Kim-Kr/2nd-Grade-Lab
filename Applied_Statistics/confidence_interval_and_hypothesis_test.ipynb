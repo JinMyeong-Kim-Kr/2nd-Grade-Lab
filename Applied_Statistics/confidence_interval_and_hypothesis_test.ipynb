{
 "cells": [
  {
   "cell_type": "markdown",
   "id": "c0c6e952-cfb7-482a-8b4f-4e39d4956e04",
   "metadata": {
    "id": "c0c6e952-cfb7-482a-8b4f-4e39d4956e04"
   },
   "source": [
    "## 2. 모수 구간추정 및 가설검정 (confidence interval and hypothesis test)"
   ]
  },
  {
   "cell_type": "code",
   "execution_count": null,
   "id": "955334b0-a812-4a93-a603-faf0111ba838",
   "metadata": {
    "colab": {
     "base_uri": "https://localhost:8080/",
     "height": 568
    },
    "id": "955334b0-a812-4a93-a603-faf0111ba838",
    "outputId": "c4ee4cc0-ac3f-4a4e-a2d5-f7e91409cea0"
   },
   "outputs": [
    {
     "name": "stdout",
     "output_type": "stream",
     "text": [
      "데이터의 수: 167954\n",
      "키 평균: 174.69018898031607 , 표준편차: 5.448833013622449\n"
     ]
    },
    {
     "data": {
      "image/png": "[encoded data removed]",
      "text/plain": [
       "<Figure size 432x288 with 1 Axes>"
      ]
     },
     "metadata": {},
     "output_type": "display_data"
    },
    {
     "name": "stdout",
     "output_type": "stream",
     "text": [
      "몸무게 평균: 72.16640407492528 , 표준편차: 13.713571398740728\n"
     ]
    },
    {
     "data": {
      "image/png": "[encoded data removed]",
      "text/plain": [
       "<Figure size 432x288 with 1 Axes>"
      ]
     },
     "metadata": {},
     "output_type": "display_data"
    }
   ],
   "source": [
    "import numpy as np\n",
    "import scipy.stats as stats\n",
    "import matplotlib.pyplot as plt\n",
    "\n",
    "# (1) 데이터 읽어오기 및 원하는 데이터 열 단위로 추출하기, 시각화\n",
    "# 육군 신체측정 정보 (https://www.data.go.kr/data/15083227/fileData.do)\n",
    "\n",
    "data = np.genfromtxt('/content/army_phexam_data.csv', delimiter=\",\",encoding='cp949')\n",
    "print('데이터의 수:', len(data)-1)\n",
    "height = np.genfromtxt('/content/army_phexam_data.csv',delimiter=\",\",  usecols= (4),encoding='cp949')\n",
    "height = height[1:]\n",
    "\n",
    "weight = np.genfromtxt('/content/army_phexam_data.csv', delimiter=\",\",  usecols= (9),encoding='cp949')\n",
    "weight = weight[1:]\n",
    "\n",
    "print('키 평균:', height.mean(), ', 표준편차:', height.std())\n",
    "plt.hist(height,20)\n",
    "plt.show()\n",
    "\n",
    "print('몸무게 평균:', weight.mean(), ', 표준편차:', weight.std())\n",
    "plt.hist(weight,20)\n",
    "plt.show()"
   ]
  },
  {
   "cell_type": "code",
   "execution_count": null,
   "id": "72f05fe9-94f5-4e4f-acf1-0f8d928a6573",
   "metadata": {
    "colab": {
     "base_uri": "https://localhost:8080/"
    },
    "id": "72f05fe9-94f5-4e4f-acf1-0f8d928a6573",
    "outputId": "89f0cede-c7af-4fee-bf5c-1932da2c57fb"
   },
   "outputs": [
    {
     "name": "stdout",
     "output_type": "stream",
     "text": [
      "(174.65694931289897, 174.93671068710097)\n",
      "(72.46033037883016, 73.16456962116983)\n"
     ]
    }
   ],
   "source": [
    "# (2) 데이터에서 마지막 10000명을 선택하여 구간추정을 수행 후 분석\n",
    "\n",
    "## TODO ##\n",
    "height = np.genfromtxt('/content/army_phexam_data.csv',delimiter=\",\",  usecols= (4),encoding='cp949')\n",
    "weight = np.genfromtxt('/content/army_phexam_data.csv', delimiter=\",\",  usecols= (9),encoding='cp949')\n",
    "height = height[-10000:]\n",
    "weight = weight[-10000:]\n",
    "print(stats.norm.interval(0.99, loc=height.mean(), scale= np.std(height) / np.sqrt(10000)))\n",
    "print(stats.norm.interval(0.99, loc=weight.mean(), scale= np.std(weight) / np.sqrt(10000)))\n",
    "# 전체 데이터에서 구한 평균치가 추정한 구간안에 들어가는가? 들어가지 않는다면 그 이유를 분석하면?\n",
    "# 몸무게는 들어가지 않는다. 왜냐하면 표본평균과 모평균이 정확히 일치하지 않으므로, 점추정값은 오차를 갖기 때문이다."
   ]
  },
  {
   "cell_type": "code",
   "execution_count": null,
   "id": "7d814eb5-7dbf-4b89-ba72-638c4d1fb128",
   "metadata": {
    "colab": {
     "base_uri": "https://localhost:8080/"
    },
    "id": "7d814eb5-7dbf-4b89-ba72-638c4d1fb128",
    "outputId": "2d8a689c-6b4a-4819-eb53-4efc27dcb61e"
   },
   "outputs": [
    {
     "name": "stdout",
     "output_type": "stream",
     "text": [
      "(172.43130468918724, 176.6753619774795)\n",
      "(66.65531966995066, 79.40468033004935)\n"
     ]
    }
   ],
   "source": [
    "# (3) 데이터에서 마지막 30명을 선택하여 구간추정 수행 후 분석\n",
    "height = np.genfromtxt('/content/army_phexam_data.csv',delimiter=\",\",  usecols= (4),encoding='cp949')\n",
    "height = height[-30:]\n",
    "weight = np.genfromtxt('/content/army_phexam_data.csv', delimiter=\",\",  usecols= (9),encoding='cp949')\n",
    "weight = weight[-30:]\n",
    "\n",
    "print(stats.t.interval(0.99,29,loc=height.mean(), scale= np.std(height) / np.sqrt(30)))\n",
    "print(stats.t.interval(0.99,29,loc=weight.mean(), scale= np.std(weight) / np.sqrt(30)))"
   ]
  },
  {
   "cell_type": "code",
   "execution_count": null,
   "id": "ea9359c3-2c5b-4576-a077-116313fae7e8",
   "metadata": {
    "colab": {
     "base_uri": "https://localhost:8080/"
    },
    "id": "ea9359c3-2c5b-4576-a077-116313fae7e8",
    "outputId": "b2923caf-aff9-4d62-c081-87bb55ee968c"
   },
   "outputs": [
    {
     "name": "stdout",
     "output_type": "stream",
     "text": [
      "Ttest_1sampResult(statistic=2.3304940285241673, pvalue=0.019978376430331093)\n"
     ]
    }
   ],
   "source": [
    "# (4) 데이터에서 2013년, 2016년에 측정된 체중값을 추출 후, 가설 검정 (H0:mu=mu_0, H1:mu>mu_0)\n",
    "import pandas\n",
    "csv_data = pandas.read_csv('/content/army_phexam_data.csv', usecols=[1, 9], encoding='cp949')\n",
    "weight_2013 = []\n",
    "for i in range(len(csv_data)):\n",
    "  if csv_data.get(\"측정 일자\")[i] == 2013:\n",
    "    weight_2013.append(csv_data.get(\"몸무게\")[i])\n",
    "m0 = np.mean(weight_2013)\n",
    "\n",
    "weight_2016 = []\n",
    "for i in range(len(csv_data)):\n",
    "  if csv_data.get(\"측정 일자\")[i] // 2016 == 10000:\n",
    "    weight_2016.append(csv_data.get(\"몸무게\")[i])\n",
    "weight_2016 = weight_2016[-1000:]\n",
    "m = np.mean(weight_2016)\n",
    "print(stats.ttest_1samp(weight_2016, m0))\n",
    "\n",
    "# 귀무가설과 대립가설 중 어느 가설을 채택하고 기각해야 할까?\n",
    "# p-값이 0.01 < p < 0.05 사이에 있으므로 대립가설이 옳다는 추론을 할만한 강한 증거가 있다고 해석할 수 있다.\n",
    "# 따라서 대립가설을 채택하고, 귀무가설을 기각해야 한다.\n"
   ]
  },
  {
   "cell_type": "code",
   "execution_count": null,
   "id": "7ff66d89-3bc1-40dc-bcfa-9263575e210a",
   "metadata": {
    "colab": {
     "base_uri": "https://localhost:8080/"
    },
    "id": "7ff66d89-3bc1-40dc-bcfa-9263575e210a",
    "outputId": "760878d6-c2eb-4e84-c50d-bc9f20e28894"
   },
   "outputs": [
    {
     "name": "stdout",
     "output_type": "stream",
     "text": [
      "0.40303780259297695\n",
      "가슴 둘레와 소매길이의 상관계수: 0.2560452797997786\n",
      "가슴 둘레와 신장의 상관계수: 0.2570671759959904\n",
      "가슴 둘레와 허리 둘레의 상관계수: 0.8558243235639508\n",
      "가슴 둘레와 샅높이의 상관계수: 0.36257240050984085\n",
      "가슴 둘레와 머리 둘레의 상관계수: 0.3790241533277269\n",
      "가슴 둘레와 발 길이의 상관계수: 0.26340331470710454\n",
      "가슴 둘레와 몸무게의 상관계수: 0.8937497511786289\n",
      "소매길이와 신장의 상관계수: 0.9947892913045036\n",
      "소매길이와 허리 둘레의 상관계수: 0.20611256365899924\n",
      "소매길이와 샅높이의 상관계수: 0.7721188053593292\n",
      "소매길이와 머리 둘레의 상관계수: 0.15643213262325686\n",
      "소매길이와 발 길이의 상관계수: 0.5421523874315792\n",
      "소매길이와 몸무게의 상관계수: 0.40107663496082163\n",
      "신장와 허리 둘레의 상관계수: 0.2069798507075679\n",
      "신장와 샅높이의 상관계수: 0.7763837668198087\n",
      "신장와 머리 둘레의 상관계수: 0.1575778862236252\n",
      "신장와 발 길이의 상관계수: 0.5452043682562919\n",
      "신장와 몸무게의 상관계수: 0.40303780259297695\n",
      "허리 둘레와 샅높이의 상관계수: 0.36489602699780854\n",
      "허리 둘레와 머리 둘레의 상관계수: 0.3712912104267047\n",
      "허리 둘레와 발 길이의 상관계수: 0.24167596465245814\n",
      "허리 둘레와 몸무게의 상관계수: 0.8697753745890917\n",
      "샅높이와 머리 둘레의 상관계수: 0.2102497488620404\n",
      "샅높이와 발 길이의 상관계수: 0.47631839328738307\n",
      "샅높이와 몸무게의 상관계수: 0.49093664632396716\n",
      "머리 둘레와 발 길이의 상관계수: 0.24315705639101015\n",
      "머리 둘레와 몸무게의 상관계수: 0.3602768926667982\n",
      "발 길이와 몸무게의 상관계수: 0.3446607321451017\n"
     ]
    }
   ],
   "source": [
    "# (5) 상관관계 분석 (키,몸무게), (키, 발 길이), (머리 둘레, 몸무게), ...\n",
    "\n",
    "## TODO ##\n",
    "chest = np.genfromtxt('/content/army_phexam_data.csv',delimiter=\",\", usecols= (2),encoding='cp949')\n",
    "hand = np.genfromtxt('/content/army_phexam_data.csv',delimiter=\",\", usecols= (3),encoding='cp949')\n",
    "height = np.genfromtxt('/content/army_phexam_data.csv',delimiter=\",\", usecols= (4),encoding='cp949')\n",
    "waist = np.genfromtxt('/content/army_phexam_data.csv',delimiter=\",\", usecols= (5),encoding='cp949')\n",
    "sat = np.genfromtxt('/content/army_phexam_data.csv',delimiter=\",\", usecols= (6),encoding='cp949')\n",
    "head = np.genfromtxt('/content/army_phexam_data.csv',delimiter=\",\", usecols= (7),encoding='cp949')\n",
    "foot = np.genfromtxt('/content/army_phexam_data.csv',delimiter=\",\", usecols= (8),encoding='cp949')\n",
    "weight = np.genfromtxt('/content/army_phexam_data.csv', delimiter=\",\",  usecols= (9),encoding='cp949')\n",
    "\n",
    "chest = chest[1:]\n",
    "hand = hand[1:]\n",
    "waist = waist[1:]\n",
    "height = height[1:]\n",
    "sat = sat[1:]\n",
    "head = head[1:]\n",
    "foot = foot[1:]\n",
    "weight = weight[1:]\n",
    "corr = np.corrcoef(height, weight)[1,0]\n",
    "print(corr)\n",
    "print(\"가슴 둘레와 소매길이의 상관계수:\" , np.corrcoef(chest, hand)[1,0])\n",
    "print(\"가슴 둘레와 신장의 상관계수:\" , np.corrcoef(chest, height)[1,0])\n",
    "print(\"가슴 둘레와 허리 둘레의 상관계수:\" , np.corrcoef(chest, waist)[1,0])\n",
    "print(\"가슴 둘레와 샅높이의 상관계수:\" , np.corrcoef(chest, sat)[1,0])\n",
    "print(\"가슴 둘레와 머리 둘레의 상관계수:\" , np.corrcoef(chest, head)[1,0])\n",
    "print(\"가슴 둘레와 발 길이의 상관계수:\" , np.corrcoef(chest, foot)[1,0])\n",
    "print(\"가슴 둘레와 몸무게의 상관계수:\" , np.corrcoef(chest, weight)[1,0])\n",
    "print(\"소매길이와 신장의 상관계수:\" , np.corrcoef(hand, height)[1,0])\n",
    "print(\"소매길이와 허리 둘레의 상관계수:\" , np.corrcoef(hand, waist)[1,0])\n",
    "print(\"소매길이와 샅높이의 상관계수:\" , np.corrcoef(hand, sat)[1,0])\n",
    "print(\"소매길이와 머리 둘레의 상관계수:\" , np.corrcoef(hand, head)[1,0])\n",
    "print(\"소매길이와 발 길이의 상관계수:\" , np.corrcoef(hand, foot)[1,0])\n",
    "print(\"소매길이와 몸무게의 상관계수:\" , np.corrcoef(hand, weight)[1,0])\n",
    "print(\"신장와 허리 둘레의 상관계수:\" , np.corrcoef(height, waist)[1,0])\n",
    "print(\"신장와 샅높이의 상관계수:\" , np.corrcoef(height, sat)[1,0])\n",
    "print(\"신장와 머리 둘레의 상관계수:\" , np.corrcoef(height, head)[1,0])\n",
    "print(\"신장와 발 길이의 상관계수:\" , np.corrcoef(height, foot)[1,0])\n",
    "print(\"신장와 몸무게의 상관계수:\" , np.corrcoef(height, weight)[1,0])\n",
    "print(\"허리 둘레와 샅높이의 상관계수:\" , np.corrcoef(waist, sat)[1,0])\n",
    "print(\"허리 둘레와 머리 둘레의 상관계수:\" , np.corrcoef(waist, head)[1,0])\n",
    "print(\"허리 둘레와 발 길이의 상관계수:\" , np.corrcoef(waist, foot)[1,0])\n",
    "print(\"허리 둘레와 몸무게의 상관계수:\" , np.corrcoef(waist, weight)[1,0])\n",
    "print(\"샅높이와 머리 둘레의 상관계수:\" , np.corrcoef(sat, head)[1,0])\n",
    "print(\"샅높이와 발 길이의 상관계수:\" , np.corrcoef(sat,foot)[1,0])\n",
    "print(\"샅높이와 몸무게의 상관계수:\" , np.corrcoef(sat, weight)[1,0])\n",
    "print(\"머리 둘레와 발 길이의 상관계수:\" , np.corrcoef(head, foot)[1,0])\n",
    "print(\"머리 둘레와 몸무게의 상관계수:\" , np.corrcoef(head, weight)[1,0])\n",
    "print(\"발 길이와 몸무게의 상관계수:\" , np.corrcoef(foot, weight)[1,0])\n",
    "# 상관관계가 가장 큰 변수쌍과 가장 낮은 변수쌍은?\n",
    "# 가장 큰 변수쌍: 소매길이와 신장, 가장 낮은 변수쌍: 소매길이와 머리 둘레"
   ]
  },
  {
   "cell_type": "code",
   "execution_count": null,
   "id": "fd6332cc-e924-48fd-adc7-8dcf080836f1",
   "metadata": {
    "id": "fd6332cc-e924-48fd-adc7-8dcf080836f1"
   },
   "outputs": [],
   "source": [
    "####################################################"
   ]
  },
  {
   "cell_type": "code",
   "execution_count": null,
   "id": "74d945c7-c350-4455-9c5b-3832e937c46d",
   "metadata": {
    "id": "74d945c7-c350-4455-9c5b-3832e937c46d"
   },
   "outputs": [],
   "source": []
  }
 ],
 "metadata": {
  "language_info": {
   "name": "python"
  },
  "orig_nbformat": 4
 },
 "nbformat": 4,
 "nbformat_minor": 2
}
